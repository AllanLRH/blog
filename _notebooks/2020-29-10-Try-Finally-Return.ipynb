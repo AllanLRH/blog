{
 "cells": [
  {
   "cell_type": "markdown",
   "metadata": {},
   "source": [
    "# try, return and finally – what takes precendence?\n",
    "\n",
    "I encountered some code with a structure like this one at work today:"
   ]
  },
  {
   "cell_type": "code",
   "execution_count": 1,
   "metadata": {},
   "outputs": [],
   "source": [
    "def divide_numbers_a(a, b):\n",
    "    try:\n",
    "        return a / b\n",
    "    except ZeroDivisionError:\n",
    "        print(\"Bad stuff happened!\")\n",
    "    finally:\n",
    "        return None"
   ]
  },
  {
   "cell_type": "markdown",
   "metadata": {},
   "source": [
    "On one hand, the `return` statement should make the function exit early when no errors are encoutered, but on the other hand, the code in the `finally`-clause should always run.\n",
    "\n",
    "If the function indeed returns within the `try`-block, and the `except` and `finally`-block is only executed when an exception happens, the code could as well look like this:"
   ]
  },
  {
   "cell_type": "code",
   "execution_count": 2,
   "metadata": {},
   "outputs": [],
   "source": [
    "def divide_numbers_b(a, b):\n",
    "    try:\n",
    "        return a / b\n",
    "    except ZeroDivisionError:\n",
    "        print(\"Bad stuff happened!\")\n",
    "    return None"
   ]
  },
  {
   "cell_type": "markdown",
   "metadata": {},
   "source": [
    "Let's try and see what happens!"
   ]
  },
  {
   "cell_type": "code",
   "execution_count": 3,
   "metadata": {},
   "outputs": [
    {
     "name": "stdout",
     "output_type": "stream",
     "text": [
      "divide_numbers_a(1, 1)=None\n",
      "\n",
      "Bad stuff happened!\n",
      "divide_numbers_a(1, 0)=None\n",
      "\n",
      "divide_numbers_b(1, 1)=1.0\n",
      "\n",
      "Bad stuff happened!\n",
      "divide_numbers_b(1, 0)=None\n",
      "\n"
     ]
    }
   ],
   "source": [
    "print(f'{divide_numbers_a(1, 1)=}', end='\\n'*2)\n",
    "print(f'{divide_numbers_a(1, 0)=}', end='\\n'*2)\n",
    "print(f'{divide_numbers_b(1, 1)=}', end='\\n'*2)\n",
    "print(f'{divide_numbers_b(1, 0)=}', end='\\n'*2)"
   ]
  },
  {
   "cell_type": "markdown",
   "metadata": {},
   "source": [
    "So apparently `finally` trumps the `return`-statement in the `try`-block… which I guess makes sense, because why else would the `finally` be part of Python, if it's not always the final block being executed?"
   ]
  }
 ],
 "metadata": {
  "kernelspec": {
   "display_name": "Python 3",
   "language": "python",
   "name": "python3"
  },
  "language_info": {
   "codemirror_mode": {
    "name": "ipython",
    "version": 3
   },
   "file_extension": ".py",
   "mimetype": "text/x-python",
   "name": "python",
   "nbconvert_exporter": "python",
   "pygments_lexer": "ipython3",
   "version": "3.8.5"
  }
 },
 "nbformat": 4,
 "nbformat_minor": 4
}