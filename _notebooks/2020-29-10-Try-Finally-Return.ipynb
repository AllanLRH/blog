{
 "cells": [
  {
   "cell_type": "markdown",
   "metadata": {},
   "source": [
    "# try, return and finally – what takes precendence?\n",
    "> \"Yes, finally-clauses are executed before functions return, but be careful with placing a return-statement inside the finally-caluse!\"\n",
    "\n",
    "- branch: master\n",
    "- badges: true\n",
    "- comments: true\n",
    "- author: Allan L. R. Hansen\n",
    "- categories: [python]"
   ]
  },
  {
   "cell_type": "markdown",
   "metadata": {},
   "source": [
    "I encountered some code with a structure like this one at work today:"
   ]
  },
  {
   "cell_type": "code",
   "execution_count": 1,
   "metadata": {},
   "outputs": [],
   "source": [
    "def divide_numbers_a(a, b):\n",
    "    try:\n",
    "        return a / b\n",
    "    except ZeroDivisionError:\n",
    "        print(\"Bad stuff happened!\")\n",
    "    finally:\n",
    "        print(\"Close database connection or something like that…\")\n",
    "        return None"
   ]
  },
  {
   "cell_type": "markdown",
   "metadata": {},
   "source": [
    "On one hand, the `return` statement should make the function exit early when no errors are encoutered, but on the other hand, the code in the `finally`-clause should always run – which value will be returned?\n",
    "\n",
    "If the function indeed returns within the `try`-block, and the `except`-block is only reached when an exception is thrown and interceptet, is the `finally`-block reached when an exception in not raised?"
   ]
  },
  {
   "cell_type": "code",
   "execution_count": 2,
   "metadata": {},
   "outputs": [],
   "source": [
    "def divide_numbers_b(a, b):\n",
    "    try:\n",
    "        return a / b\n",
    "    except ZeroDivisionError:\n",
    "        print(\"Bad stuff happened!\")\n",
    "    finally:\n",
    "        print(\"Close database connection or something like that…\")\n",
    "    return None"
   ]
  },
  {
   "cell_type": "markdown",
   "metadata": {},
   "source": [
    "Let's try and see what happens!"
   ]
  },
  {
   "cell_type": "code",
   "execution_count": 3,
   "metadata": {},
   "outputs": [
    {
     "name": "stdout",
     "output_type": "stream",
     "text": [
      "Close database connection or something like that…\n",
      "divide_numbers_a(1, 1)=None\n",
      "\n",
      "Bad stuff happened!\n",
      "Close database connection or something like that…\n",
      "divide_numbers_a(1, 0)=None\n",
      "\n",
      "Close database connection or something like that…\n",
      "divide_numbers_b(1, 1)=1.0\n",
      "\n",
      "Bad stuff happened!\n",
      "Close database connection or something like that…\n",
      "divide_numbers_b(1, 0)=None\n",
      "\n"
     ]
    }
   ],
   "source": [
    "print(f'{divide_numbers_a(1, 1)=}', end='\\n'*2)\n",
    "print(f'{divide_numbers_a(1, 0)=}', end='\\n'*2)\n",
    "print(f'{divide_numbers_b(1, 1)=}', end='\\n'*2)\n",
    "print(f'{divide_numbers_b(1, 0)=}', end='\\n'*2)"
   ]
  },
  {
   "cell_type": "markdown",
   "metadata": {},
   "source": [
    "So apparently `finally`-block are executed _before_ the function returns, and including a `return`-statement there will cause `return`-statement in the `try`-block to be bypassed.\n",
    "\n",
    "But placing a `return` statement at the end of the function definition and outside the try-except-finally block will still work for returning a default value, since it will only be reached if no other return-statements are executed."
   ]
  }
 ],
 "metadata": {
  "kernelspec": {
   "display_name": "Python 3",
   "language": "python",
   "name": "python3"
  },
  "language_info": {
   "codemirror_mode": {
    "name": "ipython",
    "version": 3
   },
   "file_extension": ".py",
   "mimetype": "text/x-python",
   "name": "python",
   "nbconvert_exporter": "python",
   "pygments_lexer": "ipython3",
   "version": "3.8.5"
  }
 },
 "nbformat": 4,
 "nbformat_minor": 4
}
